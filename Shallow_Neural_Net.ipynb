{
 "cells": [
  {
   "cell_type": "code",
   "execution_count": 2,
   "metadata": {},
   "outputs": [],
   "source": [
    "# Imports\n",
    "import numpy as np\n",
    "from matplotlib import pyplot as plt\n",
    "      \n",
    "# Each row is a training example, each column is a feature  [X1, X2, X3]\n",
    "X=np.array(([0,3,0,0],[0,4,3,1],[1,0,3,3], [1,2,3,4]), dtype=float)\n",
    "y=np.array(([0], [1], [1], [1]), dtype=float)\n",
    "\n",
    "# Define useful functions    \n",
    "\n",
    "# Activation function\n",
    "def sigmoid(t):\n",
    "    return np.divide(1, (1+np.exp(-t)))\n",
    "\n",
    "# Derivative of sigmoid\n",
    "def sigmoid_derivative(p):\n",
    "    return p * (1 - p)\n",
    "\n",
    "class NeuralNetwork:\n",
    "    \n",
    "    def __init__(self, x, y):\n",
    "        self.input    = x\n",
    "        self.weights1 = np.random.rand(self.input.shape[1], 4)\n",
    "        self.weights2 = np.random.rand(4, 1)\n",
    "        self.y        = y\n",
    "        self.output   = np.zeros(self.y.shape)\n",
    "        print (self.input)\n",
    "        print (self.weights1)\n",
    "        print(np.dot(self.input, self.weights1))\n",
    "        \n",
    "    def feedforward(self):\n",
    "        self.layer1 = sigmoid(np.dot(self.input, self.weights1))\n",
    "        self.output = sigmoid(np.dot(self.layer1, self.weights2))\n",
    "        return self.output\n",
    "        \n",
    "    def backprop(self):\n",
    "        # application of the chain rule to find derivative of the loss function\n",
    "        d_weights2 = np.dot(self.layer1.T, (2*(self.y - self.output) * sigmoid_derivative(self.output)))\n",
    "        d_weights1 = np.dot(self.input.T, (np.dot(2*(self.y - self.output)* sigmoid_derivative(self.output), self.weights2.T) * sigmoid_derivative(self.layer1)))\n",
    "        \n",
    "        # update the weights with the derivative (slope) of the loss function\n",
    "        self.weights1 += d_weights1\n",
    "        self.weights2 += d_weights2\n",
    "        \n",
    "    def train(self, X, y):\n",
    "        self.output = self.feedforward()\n",
    "        self.backprop()\n",
    "        \n",
    "    def predict(self, p):\n",
    "        self.input = p\n",
    "        prediction = self.feedforward()\n",
    "        return prediction\n",
    "\n",
    "    "
   ]
  },
  {
   "cell_type": "code",
   "execution_count": 3,
   "metadata": {},
   "outputs": [
    {
     "name": "stdout",
     "output_type": "stream",
     "text": [
      "[[0. 3. 0. 0.]\n",
      " [0. 4. 3. 1.]\n",
      " [1. 0. 3. 3.]\n",
      " [1. 2. 3. 4.]]\n",
      "[[0.9692476  0.35754078 0.41710995 0.03260662]\n",
      " [0.05382717 0.70138984 0.28112349 0.01669688]\n",
      " [0.81286648 0.32963897 0.07004335 0.23433253]\n",
      " [0.80055317 0.90999843 0.72103689 0.19038801]]\n",
      "[[0.16148152 2.10416953 0.84337046 0.05009063]\n",
      " [3.45446132 4.70447471 2.05566089 0.96017311]\n",
      " [5.80950658 4.07645298 2.79035066 1.30676824]\n",
      " [6.7177141  6.3892311  4.07363452 1.53055   ]]\n",
      "4\n"
     ]
    },
    {
     "data": {
      "image/png": "[encoded data removed]",
      "text/plain": [
       "<Figure size 432x288 with 1 Axes>"
      ]
     },
     "metadata": {
      "needs_background": "light"
     },
     "output_type": "display_data"
    },
    {
     "name": "stdout",
     "output_type": "stream",
     "text": [
      "Prediction for [1,2,3,4] is [0.99558749]\n"
     ]
    }
   ],
   "source": [
    "NN = NeuralNetwork(X,y)\n",
    "from matplotlib import pyplot as plt\n",
    "print (X.shape[1])\n",
    "\n",
    "for i in range(2000): # trains the NN 1,000 times\n",
    "    '''\n",
    "    if i % 100 ==0: \n",
    "        print (\"for iteration # \" + str(i) + \"\\n\")\n",
    "        print (\"Input : \\n\" + str(X))\n",
    "        print (\"Actual Output: \\n\" + str(y))\n",
    "        print (\"Predicted Output: \\n\" + str(NN.feedforward()))\n",
    "        print (\"Loss: \\n\" + str(np.mean(np.square(y - NN.feedforward())))) # mean sum squared loss\n",
    "        print (\"\\n\")\n",
    "    '''\n",
    "    plt.scatter(i, np.mean(np.square(y - NN.feedforward())), marker = 'x')\n",
    "\n",
    "    \n",
    "    NN.train(X, y)\n",
    "\n",
    "plt.xlabel('Iterations')\n",
    "plt.ylabel('Loss function')\n",
    "plt.show()\n",
    "\n",
    "print ('Prediction for [1,2,3,4] is', NN.predict(np.array(([1,2,3,4]), dtype = float)))\n"
   ]
  }
 ],
 "metadata": {
  "kernelspec": {
   "display_name": "Python 3",
   "language": "python",
   "name": "python3"
  },
  "language_info": {
   "codemirror_mode": {
    "name": "ipython",
    "version": 3
   },
   "file_extension": ".py",
   "mimetype": "text/x-python",
   "name": "python",
   "nbconvert_exporter": "python",
   "pygments_lexer": "ipython3",
   "version": "3.7.0"
  }
 },
 "nbformat": 4,
 "nbformat_minor": 2
}
